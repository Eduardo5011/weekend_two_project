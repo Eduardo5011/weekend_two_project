{
 "cells": [
  {
   "cell_type": "markdown",
   "metadata": {},
   "source": [
    "# Parking Garage Project\n",
    "\n",
    "Your assignment for today is to create a parking garage class to get more familiar with Object Oriented Programming(OOP). \n",
    "\n",
    "Your parking gargage class should have the following methods:\n",
    "- takeTicket\n",
    "   - This should decrease the amount of tickets available by 1\n",
    "   - This should decrease the amount of parkingSpaces available by 1\n",
    "- payForParking\n",
    "   - Display an input that waits for an amount from the user and store it in a variable\n",
    "   - If the payment variable is not empty then ->  display a message to the user that their ticket has been paid and they have 15mins to leave\n",
    "   - This should update the \"currentTicket\" dictionary key \"paid\" to True\n",
    "- leaveGarage\n",
    "   - If the ticket has been paid, display a message of \"Thank You, have a nice day\"\n",
    "   - If the ticket has not been paid, display an input prompt for payment\n",
    "      - Once paid, display message \"Thank you, have a nice day!\"\n",
    "   - Update parkingSpaces list to increase by 1\n",
    "   - Update tickets list to increase by 1\n",
    "\n",
    "You will need a few attributes as well:\n",
    "- tickets -> list\n",
    "- parkingSpaces -> list\n",
    "- currentTicket -> dictionary"
   ]
  },
  {
   "cell_type": "code",
   "execution_count": null,
   "metadata": {
    "scrolled": true
   },
   "outputs": [],
   "source": [
    "class ParkingGarage():\n",
    "    tickets = []\n",
    "    parkingSpaces = []\n",
    "    currentTicket = {}\n",
    "    \n",
    "            \n",
    "    def __init__(self, tickets, parkingSpaces):\n",
    "        self.tickets = tickets\n",
    "        self. parkingSpaces = parkingSpaces\n",
    "\n",
    "\n",
    "    def takeTicket(self):\n",
    "        x = self.tickets.pop()\n",
    "        self.parkingSpaces.pop()\n",
    "        \n",
    "\n",
    "    def payForParking(self, currentTicket,):\n",
    "        self.currentTicket= 1 \n",
    "        response = input(\"Waiting for amount: \")\n",
    "        self.currentTicket.self.parkingSpaces(response)\n",
    "        if self.currentTicket == True:\n",
    "            print(f\"{response} Your ticket had been payed, you have 15mins to leave.\")\n",
    "\n",
    "        \n",
    "  \n",
    "    def leaveGarage(self):\n",
    "        if self.tickets == self.currentTicket:\n",
    "            print(\"Have a nice day!\")\n",
    "        if self.tickets != self.currentTicket:\n",
    "            response = input(\"prompt for payment, Enter 1: \")\n",
    "            print(f\"{response} have a nice day!\")\n",
    "            \n",
    "my_garage = ParkingGarage([],{}) \n",
    "def run():\n",
    "    while True:\n",
    "        response = input(\"Pay for parking or leave garage?: \")\n",
    "        if response == \"pay for parking\":\n",
    "            my_garage.payForParking()\n",
    "            \n",
    "        elif response == \"leave garage\":\n",
    "            my_garage.leaveGarage()\n",
    "    \n",
    "\n",
    "run()\n"
   ]
  },
  {
   "cell_type": "code",
   "execution_count": null,
   "metadata": {},
   "outputs": [],
   "source": []
  },
  {
   "cell_type": "code",
   "execution_count": null,
   "metadata": {},
   "outputs": [],
   "source": []
  },
  {
   "cell_type": "code",
   "execution_count": null,
   "metadata": {},
   "outputs": [],
   "source": []
  }
 ],
 "metadata": {
  "kernelspec": {
   "display_name": "Python 3",
   "language": "python",
   "name": "python3"
  },
  "language_info": {
   "codemirror_mode": {
    "name": "ipython",
    "version": 3
   },
   "file_extension": ".py",
   "mimetype": "text/x-python",
   "name": "python",
   "nbconvert_exporter": "python",
   "pygments_lexer": "ipython3",
   "version": "3.8.8"
  }
 },
 "nbformat": 4,
 "nbformat_minor": 2
}
